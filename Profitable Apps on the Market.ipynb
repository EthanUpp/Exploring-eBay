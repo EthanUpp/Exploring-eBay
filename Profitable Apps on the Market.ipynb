{
 "cells": [
  {
   "cell_type": "markdown",
   "metadata": {},
   "source": [
    "__Profitable App Profiles for the App Store and Google Play Markets__\n",
    "\n",
    "This project is to investigate the Apple (iOS) app store and Google Play (Android) markets in terms of which apps are most profitable. The parameters for this research include cost, language and user interactions. Cost will be sorted as free to play apps both with and without ads, and apps that cost money with and without ads. In terms of language we plan on isolating and analyzing apps designed for the English speaking demographic and user interactions will be determined through number of downloads and ratings of the apps themselves.\n",
    "\n",
    "My goal is to determine the most profitable app profile and which combination of the aforementioned will provide a promising chance of success. To start off I'll load the iOS and Android store data to explore their information storage techniques."
   ]
  },
  {
   "cell_type": "code",
   "execution_count": 2,
   "metadata": {},
   "outputs": [
    {
     "name": "stdout",
     "output_type": "stream",
     "text": [
      "['id', 'track_name', 'size_bytes', 'currency', 'price', 'rating_count_tot', 'rating_count_ver', 'user_rating', 'user_rating_ver', 'ver', 'cont_rating', 'prime_genre', 'sup_devices.num', 'ipadSc_urls.num', 'lang.num', 'vpp_lic']\n",
      "\n",
      "\n",
      "['284882215', 'Facebook', '389879808', 'USD', '0.0', '2974676', '212', '3.5', '3.5', '95.0', '4+', 'Social Networking', '37', '1', '29', '1']\n",
      "\n",
      "\n",
      "['389801252', 'Instagram', '113954816', 'USD', '0.0', '2161558', '1289', '4.5', '4.0', '10.23', '12+', 'Photo & Video', '37', '0', '29', '1']\n",
      "\n",
      "\n",
      "['529479190', 'Clash of Clans', '116476928', 'USD', '0.0', '2130805', '579', '4.5', '4.5', '9.24.12', '9+', 'Games', '38', '5', '18', '1']\n",
      "\n",
      "\n",
      "None\n",
      "['App', 'Category', 'Rating', 'Reviews', 'Size', 'Installs', 'Type', 'Price', 'Content Rating', 'Genres', 'Last Updated', 'Current Ver', 'Android Ver']\n",
      "\n",
      "\n",
      "['Photo Editor & Candy Camera & Grid & ScrapBook', 'ART_AND_DESIGN', '4.1', '159', '19M', '10,000+', 'Free', '0', 'Everyone', 'Art & Design', 'January 7, 2018', '1.0.0', '4.0.3 and up']\n",
      "\n",
      "\n",
      "['Coloring book moana', 'ART_AND_DESIGN', '3.9', '967', '14M', '500,000+', 'Free', '0', 'Everyone', 'Art & Design;Pretend Play', 'January 15, 2018', '2.0.0', '4.0.3 and up']\n",
      "\n",
      "\n",
      "['U Launcher Lite – FREE Live Cool Themes, Hide Apps', 'ART_AND_DESIGN', '4.7', '87510', '8.7M', '5,000,000+', 'Free', '0', 'Everyone', 'Art & Design', 'August 1, 2018', '1.2.4', '4.0.3 and up']\n",
      "\n",
      "\n",
      "None\n",
      "7198\n",
      "10842\n"
     ]
    }
   ],
   "source": [
    "opened_file = open('AppleStore.csv', encoding='utf8')\n",
    "opened_file2 = open('googleplaystore.csv', encoding='utf8')\n",
    "from csv import reader\n",
    "read_file = reader(opened_file)\n",
    "read_file2 = reader(opened_file2)\n",
    "apple_data = list(read_file)\n",
    "google_data = list(read_file2)\n",
    "##\n",
    "##\n",
    "def explore_data(dataset, start, end, rows_and_columns=False):\n",
    "    dataset_slice = dataset[start:end]\n",
    "    for row in dataset_slice:\n",
    "        print(row)\n",
    "        print('\\n') #adds a new (empty) line after each row\n",
    "    if rows_and_columns:\n",
    "        print('Numbers of rows:', len(dataset))\n",
    "        print('Number of columns:', len(dataset[0]))\n",
    "##\n",
    "##\n",
    "print(explore_data(apple_data, 0, 4))\n",
    "print(explore_data(google_data, 0, 4))\n",
    "##\n",
    "print(len(apple_data[0:]))\n",
    "print(len(google_data[0:]))"
   ]
  },
  {
   "cell_type": "markdown",
   "metadata": {},
   "source": [
    "After testing the explore function, identifying the column names in the process and finding the length of the data, we will begin to clean it up. This includes leaving out data that does not apply to our study, specifically ones that are not free and ones that are not primarily in the English language. \n",
    "\n",
    "We are told there is incorrect information on entry 10472 for the google play store data, which we will correct here. After printing the header and the row with the missing data, it is apparent that the app's category is missing altogether. I was able to erase this specific data point below, as incomplete data in this study just proves to be noise in the overall statistics."
   ]
  },
  {
   "cell_type": "code",
   "execution_count": 3,
   "metadata": {},
   "outputs": [
    {
     "name": "stdout",
     "output_type": "stream",
     "text": [
      "['App', 'Category', 'Rating', 'Reviews', 'Size', 'Installs', 'Type', 'Price', 'Content Rating', 'Genres', 'Last Updated', 'Current Ver', 'Android Ver']\n",
      "\n",
      "\n",
      "['Life Made WI-Fi Touchscreen Photo Frame', '1.9', '19', '3.0M', '1,000+', 'Free', '0', 'Everyone', '', 'February 11, 2018', '1.0.19', '4.0 and up']\n"
     ]
    }
   ],
   "source": [
    "print(google_data[0])\n",
    "print('\\n')\n",
    "print(google_data[10473])\n",
    "##\n",
    "##\n",
    "del google_data[10473]"
   ]
  },
  {
   "cell_type": "markdown",
   "metadata": {},
   "source": [
    "In this step I'll create a loop that combs through the data searching for duplicate entries. If finding any, I'll erase the duplicates leaving only the most current version within the data sets. The most current data entry would logically be defined as the entry with the largest number of reviews.\n",
    "\n",
    "Below I've printed apps with the name Snapchat to confirm that apps are indeed being entered multiple times into the Google Play Store. As you can see, the number of reviews varies with each entry, allowing our sorting loop to function as we intend."
   ]
  },
  {
   "cell_type": "code",
   "execution_count": 22,
   "metadata": {},
   "outputs": [
    {
     "name": "stdout",
     "output_type": "stream",
     "text": [
      "['Snapchat', 'SOCIAL', '4.0', '17014787', 'Varies with device', '500,000,000+', 'Free', '0', 'Teen', 'Social', 'July 30, 2018', 'Varies with device', 'Varies with device']\n",
      "['Snapchat', 'SOCIAL', '4.0', '17014705', 'Varies with device', '500,000,000+', 'Free', '0', 'Teen', 'Social', 'July 30, 2018', 'Varies with device', 'Varies with device']\n",
      "['Snapchat', 'SOCIAL', '4.0', '17015352', 'Varies with device', '500,000,000+', 'Free', '0', 'Teen', 'Social', 'July 30, 2018', 'Varies with device', 'Varies with device']\n",
      "['Snapchat', 'SOCIAL', '4.0', '17000166', 'Varies with device', '500,000,000+', 'Free', '0', 'Teen', 'Social', 'July 30, 2018', 'Varies with device', 'Varies with device']\n",
      "\n",
      "\n",
      "Number of duplicate apps: 1181\n",
      "\n",
      "\n",
      "Names of duplicate apps: ['Quick PDF Scanner + OCR FREE', 'Box', 'Google My Business', 'ZOOM Cloud Meetings', 'join.me - Simple Meetings', 'Box', 'Zenefits', 'Google Ads', 'Google My Business', 'Slack']\n"
     ]
    }
   ],
   "source": [
    "duplicate_entries = []\n",
    "unique_entries = []\n",
    "\n",
    "for app in google_data:\n",
    "    name = app[0]\n",
    "    if name == 'Snapchat':\n",
    "        print(app)\n",
    "\n",
    "for app in google_data:\n",
    "    name = app[0]\n",
    "    if name in unique_entries:\n",
    "        duplicate_entries.append(name)\n",
    "    else:\n",
    "        unique_entries.append(name)\n",
    "\n",
    "print('\\n')\n",
    "print('Number of duplicate apps:', len(duplicate_entries))\n",
    "print('\\n')\n",
    "print('Names of duplicate apps:', duplicate_entries[:10])"
   ]
  },
  {
   "cell_type": "markdown",
   "metadata": {},
   "source": [
    "__Erasing Duplicates__\n",
    "\n",
    "By creating a dictionary called reviews_max, we can store app info based on the largest number of reviews in the data set. Here I created the blank dictionary, then combed through the data set ignoring the header row to compare the number of reviews per app row. The apps with the largest amount of reviews will get stored into the dictionary while the others will be ignored for now."
   ]
  },
  {
   "cell_type": "code",
   "execution_count": 5,
   "metadata": {},
   "outputs": [
    {
     "name": "stdout",
     "output_type": "stream",
     "text": [
      "9659\n"
     ]
    }
   ],
   "source": [
    "reviews_max = {}\n",
    "for app in google_data[1:]:\n",
    "    name = app[0]\n",
    "    n_reviews = float(app[3])\n",
    "    if name in reviews_max and reviews_max[name] < n_reviews:\n",
    "        reviews_max[name] = n_reviews\n",
    "    elif name not in reviews_max:\n",
    "        reviews_max[name] = n_reviews\n",
    "print(len(reviews_max))"
   ]
  },
  {
   "cell_type": "markdown",
   "metadata": {},
   "source": [
    "__Erasing Diplicates Part 2__\n",
    "Here I've created two blank lists where I will sort app names and app rows from the dictionary above. If the number of reviews is equal to that of the app in the previously sorted dictionary above, it will add it to the android_clean list and add just the name to the already_added list for simplicity's sake."
   ]
  },
  {
   "cell_type": "code",
   "execution_count": 6,
   "metadata": {},
   "outputs": [
    {
     "name": "stdout",
     "output_type": "stream",
     "text": [
      "9659\n"
     ]
    }
   ],
   "source": [
    "android_clean = []\n",
    "already_added = []\n",
    "for app in google_data[1:]:\n",
    "    name = app[0]\n",
    "    n_reviews = float(app[3])\n",
    "    if (n_reviews == reviews_max[name]) and (name not in already_added):\n",
    "        android_clean.append(app)\n",
    "        already_added.append(name)\n",
    "print(len(android_clean))"
   ]
  },
  {
   "cell_type": "markdown",
   "metadata": {},
   "source": [
    "__Adjusting the Audience__\n",
    "\n",
    "This project is directed towards the English speaking market, which means we can assume that app names not in English do not suit our needs. In this next section I'll create a function that detects whether an app name is in English or not. \n",
    "\n",
    "The ASCII states that characters we frequently use in English are numbered 0-127. We can use this information paired with the ord() function to tell whether or not an app name is in English or not. Unfortunately, as is the case with emojis and special characters, they are not detected as English as their ASCII character corresponds with an ord outside of 127 seen with the final example in this next cell."
   ]
  },
  {
   "cell_type": "code",
   "execution_count": 7,
   "metadata": {},
   "outputs": [
    {
     "name": "stdout",
     "output_type": "stream",
     "text": [
      "True\n",
      "False\n",
      "False\n",
      "False\n"
     ]
    }
   ],
   "source": [
    "def english(string):\n",
    "    for character in string:\n",
    "        if ord(character) > 127:\n",
    "            return False\n",
    "    return True\n",
    "print(english('Instagram'))\n",
    "print(english('爱奇艺PPS -《欢乐颂2》电视剧热播'))\n",
    "print(english('Instachat 😜'))\n",
    "print(english('Docs To Go™ Free Office Suite'))"
   ]
  },
  {
   "cell_type": "code",
   "execution_count": 8,
   "metadata": {},
   "outputs": [
    {
     "name": "stdout",
     "output_type": "stream",
     "text": [
      "True\n",
      "False\n",
      "True\n",
      "True\n",
      "\n",
      "\n"
     ]
    }
   ],
   "source": [
    "def english(string):\n",
    "    non_english = 0\n",
    "    for character in string:\n",
    "        if ord(character) > 127:\n",
    "            non_english += 1\n",
    "    if non_english > 3:\n",
    "        return False\n",
    "    return True\n",
    "print(english('Instagram'))\n",
    "print(english('爱奇艺PPS -《欢乐颂2》电视剧热播'))\n",
    "print(english('Instachat 😜'))\n",
    "print(english('Docs To Go™ Free Office Suite'))\n",
    "print('\\n')"
   ]
  },
  {
   "cell_type": "markdown",
   "metadata": {},
   "source": [
    "I've ammended the previous function so that it will allow up to 3 anomalies for the sake of emojis and special characters. Some apps may get past the filter but this will certainly reduce the majority of non-English apps. I've now applied it to both the android data set and the ios data set below."
   ]
  },
  {
   "cell_type": "code",
   "execution_count": 9,
   "metadata": {},
   "outputs": [
    {
     "name": "stdout",
     "output_type": "stream",
     "text": [
      "['Photo Editor & Candy Camera & Grid & ScrapBook', 'ART_AND_DESIGN', '4.1', '159', '19M', '10,000+', 'Free', '0', 'Everyone', 'Art & Design', 'January 7, 2018', '1.0.0', '4.0.3 and up']\n",
      "\n",
      "\n",
      "['U Launcher Lite – FREE Live Cool Themes, Hide Apps', 'ART_AND_DESIGN', '4.7', '87510', '8.7M', '5,000,000+', 'Free', '0', 'Everyone', 'Art & Design', 'August 1, 2018', '1.2.4', '4.0.3 and up']\n",
      "\n",
      "\n",
      "['Sketch - Draw & Paint', 'ART_AND_DESIGN', '4.5', '215644', '25M', '50,000,000+', 'Free', '0', 'Teen', 'Art & Design', 'June 8, 2018', 'Varies with device', '4.2 and up']\n",
      "\n",
      "\n",
      "Numbers of rows: 9614\n",
      "Number of columns: 13\n",
      "\n",
      "\n",
      "['id', 'track_name', 'size_bytes', 'currency', 'price', 'rating_count_tot', 'rating_count_ver', 'user_rating', 'user_rating_ver', 'ver', 'cont_rating', 'prime_genre', 'sup_devices.num', 'ipadSc_urls.num', 'lang.num', 'vpp_lic']\n",
      "\n",
      "\n",
      "['284882215', 'Facebook', '389879808', 'USD', '0.0', '2974676', '212', '3.5', '3.5', '95.0', '4+', 'Social Networking', '37', '1', '29', '1']\n",
      "\n",
      "\n",
      "['389801252', 'Instagram', '113954816', 'USD', '0.0', '2161558', '1289', '4.5', '4.0', '10.23', '12+', 'Photo & Video', '37', '0', '29', '1']\n",
      "\n",
      "\n",
      "Numbers of rows: 6184\n",
      "Number of columns: 16\n"
     ]
    }
   ],
   "source": [
    "android_english = []\n",
    "apple_english = []\n",
    "\n",
    "for app in android_clean:\n",
    "    name = app[0]\n",
    "    if english(name) == True:\n",
    "        android_english.append(app)\n",
    "        \n",
    "        \n",
    "for app in apple_data:\n",
    "    name = app[1]\n",
    "    if english(name) == True:\n",
    "        apple_english.append(app)\n",
    "        \n",
    "explore_data(android_english, 0 ,3, True)\n",
    "print('\\n')\n",
    "explore_data(apple_english, 0, 3, True)"
   ]
  },
  {
   "cell_type": "markdown",
   "metadata": {},
   "source": [
    "__Free Apps__\n",
    "\n",
    "Now that I've sorted through and removed any irrelevant data to this project regarding innacurate entires, duplicate entries and non-English apps I can complete the last hurdle which is sorting to find the free apps. I'll do this by setting the parameter of removing apps that are not set with a price of 0."
   ]
  },
  {
   "cell_type": "code",
   "execution_count": 10,
   "metadata": {},
   "outputs": [
    {
     "name": "stdout",
     "output_type": "stream",
     "text": [
      "8863\n",
      "3222\n"
     ]
    }
   ],
   "source": [
    "final_android = []\n",
    "final_apple = []\n",
    "\n",
    "for app in android_english:\n",
    "    price = app[6]\n",
    "    if 'Free' in app[6]:\n",
    "        final_android.append(app)\n",
    "        \n",
    "for app in apple_english:\n",
    "    price = app[4]\n",
    "    if price == '0.0':\n",
    "        final_apple.append(app)\n",
    "        \n",
    "print(len(final_android))\n",
    "print(len(final_apple))"
   ]
  },
  {
   "cell_type": "markdown",
   "metadata": {
    "collapsed": true
   },
   "source": [
    "The goal of this research is to find an app successful to both markets allowing us a pathway for developing a successful strategy for releasing to both markets. Our strategy is to build and launch a base android app, and over a period of 6 months track it's progress and if it proves viable we can release it to the iOS markets. \n",
    "\n",
    "We can use the columns of price, genre, review and number of downloads to gauge what apps have the most promise on either app store.\n",
    "\n",
    "Here I've created a function that acts as a frequency table where we can run the app store data through and print out a useable list of which app genres and categories are most frequent in the app store."
   ]
  },
  {
   "cell_type": "code",
   "execution_count": 11,
   "metadata": {},
   "outputs": [],
   "source": [
    "def freq_table(dataset, index):\n",
    "    table = {}\n",
    "    total = 0\n",
    "    for row in dataset:\n",
    "        total += 1\n",
    "        value = row[index]\n",
    "        if value in table:\n",
    "            table[value] += 1\n",
    "        else:\n",
    "            table[value] = 1\n",
    "            \n",
    "    table_percent = {}\n",
    "    for key in table:\n",
    "        percentage = (table[key] / total) * 100\n",
    "        table_percent[key] = percentage\n",
    "    return table_percent\n",
    "##\n",
    "def display_table(dataset, index):\n",
    "    table = freq_table(dataset, index)\n",
    "    table_display = []\n",
    "    for key in table:\n",
    "        key_val_as_tuple = (table[key], key)\n",
    "        table_display.append(key_val_as_tuple)\n",
    "    table_sorted = sorted(table_display, reverse = True)\n",
    "    for entry in table_sorted:\n",
    "        print(entry[1], ':', entry[0])"
   ]
  },
  {
   "cell_type": "markdown",
   "metadata": {},
   "source": [
    "__Anatalytics__\n",
    "\n",
    "Now that the functions are built, we can apply it to the prime_genre, categories and genres of both the ios and google play stores. Printed below is the apple store prime_genres of the free English apps on the ios store. Games takes up 58% with the follow up being entertainment at nearly 8% and then in third is photo and video at nearly 5%. \n",
    "\n",
    "With this information we know that the most popular category by a vast majority is Games. However, just because the iOS store is flooded with games designed for fun doesn't mean they're in the most demand. It's hard to tell from this data alone whether or not an app profile for any of these genres would be recommended. There is a clear bias towards the Games genre but additional data such as downloads, daily users and other trends would be needed to make a decision."
   ]
  },
  {
   "cell_type": "code",
   "execution_count": 12,
   "metadata": {},
   "outputs": [
    {
     "name": "stdout",
     "output_type": "stream",
     "text": [
      "Games : 58.16263190564867\n",
      "Entertainment : 7.883302296710118\n",
      "Photo & Video : 4.9658597144630665\n",
      "Education : 3.662321539416512\n",
      "Social Networking : 3.2898820608317814\n",
      "Shopping : 2.60707635009311\n",
      "Utilities : 2.5139664804469275\n",
      "Sports : 2.1415270018621975\n",
      "Music : 2.0484171322160147\n",
      "Health & Fitness : 2.0173805090006205\n",
      "Productivity : 1.7380509000620732\n",
      "Lifestyle : 1.5828677839851024\n",
      "News : 1.3345747982619491\n",
      "Travel : 1.2414649286157666\n",
      "Finance : 1.1173184357541899\n",
      "Weather : 0.8690254500310366\n",
      "Food & Drink : 0.8069522036002483\n",
      "Reference : 0.5586592178770949\n",
      "Business : 0.5276225946617008\n",
      "Book : 0.4345127250155183\n",
      "Navigation : 0.186219739292365\n",
      "Medical : 0.186219739292365\n",
      "Catalogs : 0.12414649286157665\n"
     ]
    }
   ],
   "source": [
    "display_table(final_apple, -5) #prime_genres | iOS"
   ]
  },
  {
   "cell_type": "markdown",
   "metadata": {},
   "source": [
    "Below I've printed the Google Play Store equivalent. Here we can see a much more even distribution with the Family category comprising the majority (18.89%) with Games following up at 9.73% and Tools coming in at 8.46%."
   ]
  },
  {
   "cell_type": "code",
   "execution_count": 13,
   "metadata": {},
   "outputs": [
    {
     "name": "stdout",
     "output_type": "stream",
     "text": [
      "FAMILY : 18.898792733837304\n",
      "GAME : 9.725826469592688\n",
      "TOOLS : 8.462146000225657\n",
      "BUSINESS : 4.592124562789123\n",
      "LIFESTYLE : 3.9038700214374367\n",
      "PRODUCTIVITY : 3.8925871601038025\n",
      "FINANCE : 3.7007785174320205\n",
      "MEDICAL : 3.5315355974275078\n",
      "SPORTS : 3.396141261423897\n",
      "PERSONALIZATION : 3.317161232088458\n",
      "COMMUNICATION : 3.2381812027530184\n",
      "HEALTH_AND_FITNESS : 3.0802211440821394\n",
      "PHOTOGRAPHY : 2.944826808078529\n",
      "NEWS_AND_MAGAZINES : 2.798149610741284\n",
      "SOCIAL : 2.6627552747376737\n",
      "TRAVEL_AND_LOCAL : 2.335552296062281\n",
      "SHOPPING : 2.245289405393208\n",
      "BOOKS_AND_REFERENCE : 2.1437436533904997\n",
      "DATING : 1.8616721200496444\n",
      "VIDEO_PLAYERS : 1.7939749520478394\n",
      "MAPS_AND_NAVIGATION : 1.399074805370642\n",
      "FOOD_AND_DRINK : 1.241114746699763\n",
      "EDUCATION : 1.1621347173643235\n",
      "ENTERTAINMENT : 0.9590432133589079\n",
      "LIBRARIES_AND_DEMO : 0.9364774906916393\n",
      "AUTO_AND_VEHICLES : 0.9251946293580051\n",
      "HOUSE_AND_HOME : 0.8236488773552973\n",
      "WEATHER : 0.8010831546880289\n",
      "EVENTS : 0.7108202640189552\n",
      "PARENTING : 0.6544059573507841\n",
      "ART_AND_DESIGN : 0.6431230960171499\n",
      "COMICS : 0.6205573733498815\n",
      "BEAUTY : 0.5979916506826132\n"
     ]
    }
   ],
   "source": [
    "display_table(final_android, 1)  #Categories / Google"
   ]
  },
  {
   "cell_type": "markdown",
   "metadata": {},
   "source": [
    "Printed below are the genres of the Google Play Store"
   ]
  },
  {
   "cell_type": "code",
   "execution_count": 14,
   "metadata": {},
   "outputs": [
    {
     "name": "stdout",
     "output_type": "stream",
     "text": [
      "Tools : 8.450863138892023\n",
      "Entertainment : 6.070179397495204\n",
      "Education : 5.348076272142616\n",
      "Business : 4.592124562789123\n",
      "Productivity : 3.8925871601038025\n",
      "Lifestyle : 3.8925871601038025\n",
      "Finance : 3.7007785174320205\n",
      "Medical : 3.5315355974275078\n",
      "Sports : 3.463838429425702\n",
      "Personalization : 3.317161232088458\n",
      "Communication : 3.2381812027530184\n",
      "Action : 3.102786866749408\n",
      "Health & Fitness : 3.0802211440821394\n",
      "Photography : 2.944826808078529\n",
      "News & Magazines : 2.798149610741284\n",
      "Social : 2.6627552747376737\n",
      "Travel & Local : 2.324269434728647\n",
      "Shopping : 2.245289405393208\n",
      "Books & Reference : 2.1437436533904997\n",
      "Simulation : 2.042197901387792\n",
      "Dating : 1.8616721200496444\n",
      "Arcade : 1.8503892587160102\n",
      "Video Players & Editors : 1.771409229380571\n",
      "Casual : 1.7601263680469368\n",
      "Maps & Navigation : 1.399074805370642\n",
      "Food & Drink : 1.241114746699763\n",
      "Puzzle : 1.128286133363421\n",
      "Racing : 0.9928917973598104\n",
      "Role Playing : 0.9364774906916393\n",
      "Libraries & Demo : 0.9364774906916393\n",
      "Auto & Vehicles : 0.9251946293580051\n",
      "Strategy : 0.9026289066907368\n",
      "House & Home : 0.8236488773552973\n",
      "Weather : 0.8010831546880289\n",
      "Events : 0.7108202640189552\n",
      "Adventure : 0.6769716800180525\n",
      "Comics : 0.6092745120162473\n",
      "Beauty : 0.5979916506826132\n",
      "Art & Design : 0.5979916506826132\n",
      "Parenting : 0.4964458986799052\n",
      "Card : 0.4513144533453684\n",
      "Casino : 0.42874873067809993\n",
      "Trivia : 0.4174658693444658\n",
      "Educational;Education : 0.3949001466771973\n",
      "Board : 0.38361728534356315\n",
      "Educational : 0.37233442400992894\n",
      "Education;Education : 0.33848584000902626\n",
      "Word : 0.25950581067358686\n",
      "Casual;Pretend Play : 0.2369400880063184\n",
      "Music : 0.20309150400541578\n",
      "Racing;Action & Adventure : 0.16924292000451313\n",
      "Puzzle;Brain Games : 0.16924292000451313\n",
      "Entertainment;Music & Video : 0.16924292000451313\n",
      "Casual;Brain Games : 0.1353943360036105\n",
      "Casual;Action & Adventure : 0.1353943360036105\n",
      "Arcade;Action & Adventure : 0.1241114746699763\n",
      "Action;Action & Adventure : 0.10154575200270789\n",
      "Educational;Pretend Play : 0.09026289066907367\n",
      "Simulation;Action & Adventure : 0.07898002933543948\n",
      "Parenting;Education : 0.07898002933543948\n",
      "Entertainment;Brain Games : 0.07898002933543948\n",
      "Board;Brain Games : 0.07898002933543948\n",
      "Parenting;Music & Video : 0.06769716800180525\n",
      "Educational;Brain Games : 0.06769716800180525\n",
      "Casual;Creativity : 0.06769716800180525\n",
      "Art & Design;Creativity : 0.06769716800180525\n",
      "Education;Pretend Play : 0.05641430666817105\n",
      "Role Playing;Pretend Play : 0.045131445334536835\n",
      "Education;Creativity : 0.045131445334536835\n",
      "Role Playing;Action & Adventure : 0.033848584000902626\n",
      "Puzzle;Action & Adventure : 0.033848584000902626\n",
      "Entertainment;Creativity : 0.033848584000902626\n",
      "Entertainment;Action & Adventure : 0.033848584000902626\n",
      "Educational;Creativity : 0.033848584000902626\n",
      "Educational;Action & Adventure : 0.033848584000902626\n",
      "Education;Music & Video : 0.033848584000902626\n",
      "Education;Brain Games : 0.033848584000902626\n",
      "Education;Action & Adventure : 0.033848584000902626\n",
      "Adventure;Action & Adventure : 0.033848584000902626\n",
      "Video Players & Editors;Music & Video : 0.022565722667268417\n",
      "Sports;Action & Adventure : 0.022565722667268417\n",
      "Simulation;Pretend Play : 0.022565722667268417\n",
      "Puzzle;Creativity : 0.022565722667268417\n",
      "Music;Music & Video : 0.022565722667268417\n",
      "Entertainment;Pretend Play : 0.022565722667268417\n",
      "Casual;Education : 0.022565722667268417\n",
      "Board;Action & Adventure : 0.022565722667268417\n",
      "Video Players & Editors;Creativity : 0.011282861333634209\n",
      "Trivia;Education : 0.011282861333634209\n",
      "Travel & Local;Action & Adventure : 0.011282861333634209\n",
      "Tools;Education : 0.011282861333634209\n",
      "Strategy;Education : 0.011282861333634209\n",
      "Strategy;Creativity : 0.011282861333634209\n",
      "Strategy;Action & Adventure : 0.011282861333634209\n",
      "Simulation;Education : 0.011282861333634209\n",
      "Role Playing;Brain Games : 0.011282861333634209\n",
      "Racing;Pretend Play : 0.011282861333634209\n",
      "Puzzle;Education : 0.011282861333634209\n",
      "Parenting;Brain Games : 0.011282861333634209\n",
      "Music & Audio;Music & Video : 0.011282861333634209\n",
      "Lifestyle;Pretend Play : 0.011282861333634209\n",
      "Lifestyle;Education : 0.011282861333634209\n",
      "Health & Fitness;Education : 0.011282861333634209\n",
      "Health & Fitness;Action & Adventure : 0.011282861333634209\n",
      "Entertainment;Education : 0.011282861333634209\n",
      "Communication;Creativity : 0.011282861333634209\n",
      "Comics;Creativity : 0.011282861333634209\n",
      "Casual;Music & Video : 0.011282861333634209\n",
      "Card;Action & Adventure : 0.011282861333634209\n",
      "Books & Reference;Education : 0.011282861333634209\n",
      "Art & Design;Pretend Play : 0.011282861333634209\n",
      "Art & Design;Action & Adventure : 0.011282861333634209\n",
      "Arcade;Pretend Play : 0.011282861333634209\n",
      "Adventure;Education : 0.011282861333634209\n"
     ]
    }
   ],
   "source": [
    "display_table(final_android, -4) #Genres"
   ]
  },
  {
   "cell_type": "markdown",
   "metadata": {},
   "source": [
    "A considerable difference between this and the categories is that the distribution is in a much larger range and more evenly spread with the top 3 genres at 8.45% (Tools), 6.07% (Entertainment) and 4.59% (Education). A large difference is that the games and family sections, which comprised ~28.61 of the categories, have been split into various sub categores such as Arcade, Racing, etc. Of the game genre the most profilic sub-category is Action at 3.1%, 2nd is \n",
    "\n",
    "As with the iOS app genres, this data can be used to tell where app developers are leaning towards in content and app profiles, but doesn't allude to which are successful in the long run and which are categorized as fads."
   ]
  },
  {
   "cell_type": "markdown",
   "metadata": {
    "collapsed": true
   },
   "source": [
    "__App Analysis Part 2__\n",
    "Since we can get only a partial picture of what we want with the previous functions, we'd like to pull in a second metric to help give us the bigger picture. We'd like to use the number of installs, but that isn't defined when looking through the app store data sets. Instead, we can use the number of ratings per app as a rough proxy for number of installs."
   ]
  },
  {
   "cell_type": "code",
   "execution_count": null,
   "metadata": {
    "collapsed": true
   },
   "outputs": [],
   "source": []
  },
  {
   "cell_type": "code",
   "execution_count": 15,
   "metadata": {
    "scrolled": true
   },
   "outputs": [
    {
     "name": "stdout",
     "output_type": "stream",
     "text": [
      "Sports : 23008.898550724636\n",
      "Finance : 31467.944444444445\n",
      "Music : 57326.530303030304\n",
      "Food & Drink : 33333.92307692308\n",
      "Photo & Video : 28441.54375\n",
      "Utilities : 18684.456790123455\n",
      "Games : 22788.6696905016\n",
      "Catalogs : 4004.0\n",
      "Social Networking : 71548.34905660378\n",
      "Shopping : 26919.690476190477\n",
      "Reference : 74942.11111111111\n",
      "Education : 7003.983050847458\n",
      "Weather : 52279.892857142855\n",
      "Productivity : 21028.410714285714\n",
      "Lifestyle : 16485.764705882353\n",
      "Book : 39758.5\n",
      "Health & Fitness : 23298.015384615384\n",
      "Navigation : 86090.33333333333\n",
      "Travel : 28243.8\n",
      "Entertainment : 14029.830708661417\n",
      "Business : 7491.117647058823\n",
      "Medical : 612.0\n",
      "News : 21248.023255813954\n"
     ]
    }
   ],
   "source": [
    "apple_genre = freq_table(final_apple, -5) #frequency table for prime genre of apple store\n",
    "for genre in apple_genre:\n",
    "    total = 0\n",
    "    len_genre = 0\n",
    "    for app in final_apple:\n",
    "        genre_app = app[-5]\n",
    "        if genre == genre_app:\n",
    "            ratings = float(app[5])\n",
    "            total += ratings\n",
    "            len_genre += 1\n",
    "            \n",
    "    average_ratings = (total/len_genre)\n",
    "    print(genre, ':', average_ratings)\n",
    "        \n",
    "        "
   ]
  },
  {
   "cell_type": "markdown",
   "metadata": {},
   "source": [
    "One negative aspect of sorting the data this way is you get a few genres who are dominated by tech giants. An example would be Facebook, Snapchat and Reddit assumably accounting for a large portion of the Social Networking reviews, and the same could be said with the effect Waze and Google Maps have on the Navigation genre.\n",
    "\n",
    "An app profile I'd recommend for the Apple market based on the studies in this project is one in the Photo and Video genre as it is middle of the road reviews at 28 thousand and comprises only 4.96% of the iOS app market. These two statistics suggest a market with high downloads and not many competitors to overcome."
   ]
  },
  {
   "cell_type": "code",
   "execution_count": 16,
   "metadata": {},
   "outputs": [
    {
     "name": "stdout",
     "output_type": "stream",
     "text": [
      "SHOPPING : 7036877.311557789\n",
      "FOOD_AND_DRINK : 1924897.7363636363\n",
      "TRAVEL_AND_LOCAL : 13984077.710144928\n",
      "FAMILY : 3697848.1731343283\n",
      "EVENTS : 253542.22222222222\n",
      "VIDEO_PLAYERS : 24727872.452830188\n",
      "HOUSE_AND_HOME : 1331540.5616438356\n",
      "AUTO_AND_VEHICLES : 647317.8170731707\n",
      "COMICS : 817657.2727272727\n",
      "DATING : 854028.8303030303\n",
      "HEALTH_AND_FITNESS : 4188821.9853479853\n",
      "COMMUNICATION : 38456119.167247385\n",
      "SOCIAL : 23253652.127118643\n",
      "ART_AND_DESIGN : 1986335.0877192982\n",
      "PHOTOGRAPHY : 17840110.40229885\n",
      "WEATHER : 5074486.197183099\n",
      "PERSONALIZATION : 5201482.6122448975\n",
      "NEWS_AND_MAGAZINES : 9549178.467741935\n",
      "LIBRARIES_AND_DEMO : 638503.734939759\n",
      "LIFESTYLE : 1437816.2687861272\n",
      "MEDICAL : 120550.61980830671\n",
      "SPORTS : 3638640.1428571427\n",
      "GAME : 15588015.603248259\n",
      "FINANCE : 1387692.475609756\n",
      "EDUCATION : 1833495.145631068\n",
      "BEAUTY : 513151.88679245283\n",
      "MAPS_AND_NAVIGATION : 4056941.7741935486\n",
      "PRODUCTIVITY : 16787331.344927534\n",
      "ENTERTAINMENT : 11640705.88235294\n",
      "TOOLS : 10801391.298666667\n",
      "BOOKS_AND_REFERENCE : 8767811.894736841\n",
      "PARENTING : 542603.6206896552\n",
      "BUSINESS : 1712290.1474201474\n"
     ]
    }
   ],
   "source": [
    "android_category = freq_table(final_android, 1)\n",
    "for category in android_category:\n",
    "    total = 0\n",
    "    len_category = 0\n",
    "    for app in final_android:\n",
    "        category_app = app[1]\n",
    "        if category == category_app:\n",
    "            n_installs = app[5]\n",
    "            n_installs = n_installs.replace('+', '')\n",
    "            n_installs = n_installs.replace(',', '')\n",
    "            total += float(n_installs)\n",
    "            len_category += 1\n",
    "    average_installs = (total/len_category)\n",
    "    print(category, ':', average_installs)\n",
    "   \n"
   ]
  },
  {
   "cell_type": "markdown",
   "metadata": {},
   "source": [
    "__Android App Recommendation__\n",
    "\n",
    "Ideally I'd recommend an app that applies to a market with a large number of installs and whose category is only a realtively small part of the overall Google Play Store. Again avoiding large tech icons such as Facebook or Waze, I'd be looking for median numbers in both categories.\n",
    "\n",
    "I'd recommend an app that is targeted towards the Health and Fitness category as it only comprises 3.08% of the Google Play Store and has approximately 4.19 million downloads. There aren't many prominent apps dominating this sector and with Quarantine a reality for America an up and coming app could see promising revenue."
   ]
  }
 ],
 "metadata": {
  "kernelspec": {
   "display_name": "Python 3",
   "language": "python",
   "name": "python3"
  },
  "language_info": {
   "codemirror_mode": {
    "name": "ipython",
    "version": 3
   },
   "file_extension": ".py",
   "mimetype": "text/x-python",
   "name": "python",
   "nbconvert_exporter": "python",
   "pygments_lexer": "ipython3",
   "version": "3.8.2"
  }
 },
 "nbformat": 4,
 "nbformat_minor": 2
}
